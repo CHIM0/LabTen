{
 "cells": [
  {
   "cell_type": "markdown",
   "metadata": {},
   "source": [
    "1. Logistic回归实现"
   ]
  },
  {
   "cell_type": "code",
   "execution_count": 5,
   "metadata": {},
   "outputs": [],
   "source": [
    "from numpy import *\n",
    "\n",
    "def loadDataSet():\n",
    "    dataMat = []; labelMat = []\n",
    "    fr = open('testSet_Logistic.txt')\n",
    "    for line in fr.readlines():\n",
    "        lineArr = line.strip().split()\n",
    "        dataMat.append([1.0, float(lineArr[0]), float(lineArr[1])])\n",
    "        labelMat.append(int(lineArr[2]))\n",
    "    return dataMat,labelMat\n",
    "\n",
    "def sigmoid(inX):\n",
    "    '''\n",
    "    输入：sigmoid函数的输入值\n",
    "    输出：sigmoid函数输出结果\n",
    "    描述：sigmoid函数实现\n",
    "    '''\n",
    "    return 1.0/(1.0+exp(-inX))\n",
    "\n",
    "def gradAscent(dataMatIn, classLabels):\n",
    "    '''\n",
    "    输入：数据集，对应数据的类标签\n",
    "    输出：回归系数\n",
    "    描述：批量梯度上升法实现\n",
    "    '''\n",
    "    dataMatrix = mat(dataMatIn)             #转为NumPy矩阵\n",
    "    labelMat = mat(classLabels).transpose() #转为NumPy矩阵\n",
    "    m,n = shape(dataMatrix)      #得到数据集 行数（样本数）和 列数（特征数)\n",
    "    alpha = 0.001                #梯度上升法迭代式中的 迭代步长                    \n",
    "    maxIter = 500                #最大迭代次数\n",
    "    weights = ones((n,1))        #将回归系数各分量初始化为1\n",
    "    for k in range(maxIter):                \n",
    "        h = sigmoid(dataMatrix*weights)     #得到sigmoid的输出值\n",
    "        error = (labelMat - h)              #使用向量减法计算误差\n",
    "        weights = weights + alpha * dataMatrix.transpose()* error #梯度上升法迭代式实现\n",
    "    return weights"
   ]
  },
  {
   "cell_type": "markdown",
   "metadata": {},
   "source": [
    "1.1 使用梯度上升找到最佳参数"
   ]
  },
  {
   "cell_type": "code",
   "execution_count": 10,
   "metadata": {},
   "outputs": [
    {
     "data": {
      "text/plain": [
       "matrix([[ 4.12414349],\n",
       "        [ 0.48007329],\n",
       "        [-0.6168482 ]])"
      ]
     },
     "execution_count": 10,
     "metadata": {},
     "output_type": "execute_result"
    }
   ],
   "source": [
    "dataArr,labe1Mat=loadDataSet()\n",
    "gradAscent(dataArr,labe1Mat)"
   ]
  },
  {
   "cell_type": "markdown",
   "metadata": {},
   "source": [
    "1.2 分析数据：画出决策边界"
   ]
  },
  {
   "cell_type": "code",
   "execution_count": null,
   "metadata": {},
   "outputs": [],
   "source": [
    "def plotBestFit(weights):\n",
    "    import matplotlib.pyplot as plt\n",
    "    dataMat,labelMat=loadDataSet()\n",
    "    dataArr = array(dataMat)\n",
    "    n = shape(dataArr)[0] \n",
    "    xcord1 = []; ycord1 = []\n",
    "    xcord2 = []; ycord2 = []\n",
    "    for i in range(n):\n",
    "        if int(labelMat[i])== 1:\n",
    "            xcord1.append(dataArr[i,1]); ycord1.append(dataArr[i,2])\n",
    "        else:\n",
    "            xcord2.append(dataArr[i,1]); ycord2.append(dataArr[i,2])\n",
    "    fig = plt.figure()\n",
    "    ax = fig.add_subplot(111)\n",
    "    ax.scatter(xcord1, ycord1, s=30, c='red', marker='s')\n",
    "    ax.scatter(xcord2, ycord2, s=30, c='green')\n",
    "    x = arange(-3.0, 3.0, 0.1)\n",
    "    y = (-weights[0]-weights[1]*x)/weights[2]\n",
    "    ax.plot(x, y)\n",
    "    plt.xlabel('X1'); plt.ylabel('X2');\n",
    "    plt.show()"
   ]
  },
  {
   "cell_type": "code",
   "execution_count": 12,
   "metadata": {},
   "outputs": [
    {
     "data": {
      "image/png": "[encoded data removed]",
      "text/plain": [
       "<matplotlib.figure.Figure at 0x5d9a4f0>"
      ]
     },
     "metadata": {},
     "output_type": "display_data"
    }
   ],
   "source": [
    "weights=gradAscent(dataArr, labe1Mat)\n",
    "plotBestFit(weights.getA())"
   ]
  },
  {
   "cell_type": "markdown",
   "metadata": {},
   "source": [
    "1.3 训练算法：随机梯度上升"
   ]
  },
  {
   "cell_type": "code",
   "execution_count": 13,
   "metadata": {},
   "outputs": [],
   "source": [
    "def stocGradAscent0(dataMatrix, classLabels):\n",
    "    '''\n",
    "    输入：数据集，对应数据的类标签\n",
    "    输出：回归系数\n",
    "    描述：随机梯度上升法实现\n",
    "    '''\n",
    "    m,n = shape(dataMatrix)  #得到数据集 行数（样本数）和 列数（特征数)\n",
    "    alpha = 0.01             #梯度上升法迭代式中的 迭代步长   \n",
    "    weights = ones(n)        #将回归系数各分量初始化为1\n",
    "    for i in range(m):       #对于所有数据样本\n",
    "        h = sigmoid(sum(dataMatrix[i]*weights))            #得到sigmoid的输出值\n",
    "        error = classLabels[i] - h                         #使用向量减法计算误差\n",
    "        weights = weights + alpha * error * dataMatrix[i]  #梯度上升法迭代式实现\n",
    "    return weights"
   ]
  },
  {
   "cell_type": "code",
   "execution_count": 14,
   "metadata": {},
   "outputs": [
    {
     "data": {
      "image/png": "[encoded data removed]",
      "text/plain": [
       "<matplotlib.figure.Figure at 0x8194470>"
      ]
     },
     "metadata": {},
     "output_type": "display_data"
    }
   ],
   "source": [
    "dataArr,labe1Mat=loadDataSet()\n",
    "weights=stocGradAscent0(array(dataArr),labe1Mat)\n",
    "plotBestFit(weights)"
   ]
  },
  {
   "cell_type": "markdown",
   "metadata": {},
   "source": [
    "1.4 改进的随机梯度上升算法"
   ]
  },
  {
   "cell_type": "code",
   "execution_count": 15,
   "metadata": {},
   "outputs": [],
   "source": [
    "def stocGradAscent1(dataMatrix, classLabels, maxIter=150):\n",
    "    '''\n",
    "    输入：数据集，对应数据的类标签\n",
    "    输出：回归系数\n",
    "    描述：stocGradAscent0函数的改进版本，降低了结果的\n",
    "    周期性波动，提高了结果的收敛速度\n",
    "    注：相对stocGradAscent0改进的部分用\n",
    "    '''\n",
    "    m,n = shape(dataMatrix)  #得到数据集 行数（样本数）和 列数（特征数)\n",
    "    weights = ones(n)        #将回归系数各分量初始化为1\n",
    "    for j in range(maxIter):\n",
    "        dataIndex = list(range(m))\n",
    "        for i in range(m):\n",
    "            alpha = 4/(1.0+j+i)+0.0001 #【改进1】：alpha在每次迭代都会调整，会一定程度上缓解\n",
    "                                       #结果的周期性波动。同时，由于常数项的存在，虽然alpha会\n",
    "                                       #随着迭代次数不断减少，但永远都不会减少到 0。这保证了多\n",
    "                                       #次迭代后新数据仍然会有影响\n",
    "            randIndex = int(random.uniform(0,len(dataIndex)))#【改进2】：随机选取样本更新回归系数\n",
    "                                                             #也可缓解结果的周期性波动\n",
    "            h = sigmoid(sum(dataMatrix[randIndex]*weights))            #得到sigmoid的输出值\n",
    "            error = classLabels[randIndex] - h                         #使用向量减法计算误差\n",
    "            weights = weights + alpha * error * dataMatrix[randIndex]  #梯度上升法迭代式实现\n",
    "            del(dataIndex[randIndex])  #将随机选择的样本从数据集中删除，避免影响下一次迭代\n",
    "    return weights"
   ]
  },
  {
   "cell_type": "code",
   "execution_count": 16,
   "metadata": {},
   "outputs": [
    {
     "data": {
      "image/png": "[encoded data removed]",
      "text/plain": [
       "<matplotlib.figure.Figure at 0x817a430>"
      ]
     },
     "metadata": {},
     "output_type": "display_data"
    }
   ],
   "source": [
    "dataArr,labe1Mat=loadDataSet()\n",
    "weights=stocGradAscent1(array(dataArr),labe1Mat)\n",
    "plotBestFit(weights)"
   ]
  },
  {
   "cell_type": "markdown",
   "metadata": {},
   "source": [
    "2、从疝气病症预测病马的死亡率"
   ]
  },
  {
   "cell_type": "markdown",
   "metadata": {},
   "source": [
    "2.1 利用Logistic回归分类"
   ]
  },
  {
   "cell_type": "code",
   "execution_count": 17,
   "metadata": {},
   "outputs": [],
   "source": [
    "def classifyVector(inX, weights):\n",
    "    '''\n",
    "    输入：样本数据，回归系数\n",
    "    输出：分类结果（0 或 1）\n",
    "    描述：使用优化后的回归系数对数据进行分类\n",
    "    '''\n",
    "    prob = sigmoid(sum(inX*weights)) #计算sigmoid函数输出结果\n",
    "    if prob > 0.5: return 1.0\n",
    "    else: return 0.0\n",
    "\n",
    "def colicTest():\n",
    "    frTrain = open('horseColicTraining.txt')#打开训练集文件\n",
    "    frTest = open('horseColicTest.txt')     #打开测试集文件\n",
    "    #将训练集数据和对应标签存放到trainingSet和trainingLabels中\n",
    "    trainingSet = []; trainingLabels = []\n",
    "    for line in frTrain.readlines():\n",
    "        currLine = line.strip().split('\\t')\n",
    "        lineArr =[]\n",
    "        for i in range(21):\n",
    "            lineArr.append(float(currLine[i]))\n",
    "        trainingSet.append(lineArr)\n",
    "        trainingLabels.append(float(currLine[21]))\n",
    "    #训练算法，得到回归系数trainWeights\n",
    "    trainWeights = stocGradAscent1(array(trainingSet), trainingLabels, 1000)\n",
    "    #每行读取测试集数据，使用回归系数得到分类结果\n",
    "    errorCount = 0; numTestVec = 0.0\n",
    "    for line in frTest.readlines():\n",
    "        numTestVec += 1.0\n",
    "        currLine = line.strip().split('\\t')\n",
    "        lineArr =[]\n",
    "        for i in range(21):\n",
    "            lineArr.append(float(currLine[i]))\n",
    "        #若分类结果不一致，则errorCount加一\n",
    "        if int(classifyVector(array(lineArr), trainWeights))!= int(currLine[21]):\n",
    "            errorCount += 1\n",
    "    errorRate = (float(errorCount)/numTestVec)\n",
    "    #打印此次测试的错误率\n",
    "    print (\"the error rate of this test is: %f\" % errorRate)\n",
    "    return errorRate\n",
    "\n",
    "def multiTest(numTests=10):\n",
    "    errorSum=0.0\n",
    "    for k in range(numTests):\n",
    "        errorSum += colicTest()\n",
    "    print (\"after %d iterations,the average error rate is: %f\" % (numTests, errorSum/float(numTests)))"
   ]
  },
  {
   "cell_type": "code",
   "execution_count": 18,
   "metadata": {},
   "outputs": [
    {
     "name": "stderr",
     "output_type": "stream",
     "text": [
      "e:\\python\\py36\\lib\\site-packages\\ipykernel_launcher.py:18: RuntimeWarning: overflow encountered in exp\n"
     ]
    },
    {
     "name": "stdout",
     "output_type": "stream",
     "text": [
      "the error rate of this test is: 0.358209\n",
      "the error rate of this test is: 0.388060\n",
      "the error rate of this test is: 0.373134\n",
      "the error rate of this test is: 0.343284\n",
      "the error rate of this test is: 0.402985\n",
      "the error rate of this test is: 0.268657\n",
      "the error rate of this test is: 0.417910\n",
      "the error rate of this test is: 0.328358\n",
      "the error rate of this test is: 0.298507\n",
      "the error rate of this test is: 0.343284\n",
      "after 10 iterations,the average error rate is: 0.352239\n"
     ]
    }
   ],
   "source": [
    "multiTest()"
   ]
  }
 ],
 "metadata": {
  "kernelspec": {
   "display_name": "Python 3",
   "language": "python",
   "name": "python3"
  },
  "language_info": {
   "codemirror_mode": {
    "name": "ipython",
    "version": 3
   },
   "file_extension": ".py",
   "mimetype": "text/x-python",
   "name": "python",
   "nbconvert_exporter": "python",
   "pygments_lexer": "ipython3",
   "version": "3.6.2"
  }
 },
 "nbformat": 4,
 "nbformat_minor": 2
}
